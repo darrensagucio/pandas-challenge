{
 "cells": [
  {
   "cell_type": "code",
   "execution_count": 1,
   "id": "wound-oliver",
   "metadata": {},
   "outputs": [],
   "source": [
    "# Dependencies and Setup\n",
    "import pandas as pd\n",
    "\n",
    "#Turn Off Warnings \n",
    "pd.options.mode.chained_assignment = None\n",
    "\n",
    "# File to Load \n",
    "file_to_load = \"Resources/purchase_data.csv\"\n",
    "\n",
    "# Read File and store into Pandas data frame\n",
    "main_df = pd.read_csv(file_to_load)"
   ]
  },
  {
   "cell_type": "code",
   "execution_count": 2,
   "id": "spread-curve",
   "metadata": {},
   "outputs": [],
   "source": [
    "# Checking \"Main\" Dataframe \n",
    "# main_df"
   ]
  },
  {
   "cell_type": "code",
   "execution_count": 3,
   "id": "informational-graphic",
   "metadata": {},
   "outputs": [],
   "source": [
    "# Checking Columns In Main Data Frame \n",
    "# main_df.columns"
   ]
  },
  {
   "cell_type": "markdown",
   "id": "synthetic-hebrew",
   "metadata": {},
   "source": [
    "## Total Players "
   ]
  },
  {
   "cell_type": "code",
   "execution_count": 4,
   "id": "potential-sugar",
   "metadata": {},
   "outputs": [],
   "source": [
    "# Calulating Total Players And Adding To Data Frame \n",
    "\n",
    "    total_of_players = len(main_df['SN'].value_counts())\n",
    "    total_of_players_df = pd.DataFrame({\"Total Players\":[total_of_players]})\n"
   ]
  },
  {
   "cell_type": "code",
   "execution_count": 5,
   "id": "intelligent-terrace",
   "metadata": {},
   "outputs": [
    {
     "data": {
      "text/html": [
       "<div>\n",
       "<style scoped>\n",
       "    .dataframe tbody tr th:only-of-type {\n",
       "        vertical-align: middle;\n",
       "    }\n",
       "\n",
       "    .dataframe tbody tr th {\n",
       "        vertical-align: top;\n",
       "    }\n",
       "\n",
       "    .dataframe thead th {\n",
       "        text-align: right;\n",
       "    }\n",
       "</style>\n",
       "<table border=\"1\" class=\"dataframe\">\n",
       "  <thead>\n",
       "    <tr style=\"text-align: right;\">\n",
       "      <th></th>\n",
       "      <th>Total Players</th>\n",
       "    </tr>\n",
       "  </thead>\n",
       "  <tbody>\n",
       "    <tr>\n",
       "      <th>0</th>\n",
       "      <td>576</td>\n",
       "    </tr>\n",
       "  </tbody>\n",
       "</table>\n",
       "</div>"
      ],
      "text/plain": [
       "   Total Players\n",
       "0            576"
      ]
     },
     "execution_count": 5,
     "metadata": {},
     "output_type": "execute_result"
    }
   ],
   "source": [
    "total_of_players_df"
   ]
  },
  {
   "cell_type": "markdown",
   "id": "invalid-scholar",
   "metadata": {},
   "source": [
    "## Purchasing Analysis (Total) "
   ]
  },
  {
   "cell_type": "code",
   "execution_count": 6,
   "id": "biological-madness",
   "metadata": {},
   "outputs": [],
   "source": [
    "# Calulations For Each Column In Data Frame\n",
    "\n",
    "    unique_items = len(main_df['Item Name'].value_counts())\n",
    "    average_price = main_df['Price'].mean()\n",
    "    number_purchases = len(main_df['Purchase ID'].value_counts())\n",
    "    total_revenue = main_df['Price'].sum()"
   ]
  },
  {
   "cell_type": "code",
   "execution_count": 7,
   "id": "fitted-grave",
   "metadata": {},
   "outputs": [],
   "source": [
    "# Add Calculations To Data Frame\n",
    "\n",
    "purchasing_analysis_df = pd.DataFrame({\"Number of Unique Items\":[unique_items],\n",
    "                                       \"Average Price\":[average_price],\n",
    "                                       \"Number of Purchases\":[number_purchases],\n",
    "                                       \"Total Revenue\":[total_revenue]})\n"
   ]
  },
  {
   "cell_type": "code",
   "execution_count": 8,
   "id": "biblical-tyler",
   "metadata": {},
   "outputs": [],
   "source": [
    "# Formatting Average Price and Total Revenue \n",
    "\n",
    "    purchasing_analysis_df[\"Average Price\"] = purchasing_analysis_df[\"Average Price\"].astype(float).map(\"${:,.2f}\".format)\n",
    "    #purchasing_analysis_df[\"Total Revenue\"] = purchasing_analysis_df[\"Total Revenue\"].astype(float).map(\n",
    "        #\"${:,.2f}\".format)    "
   ]
  },
  {
   "cell_type": "code",
   "execution_count": 9,
   "id": "consistent-sentence",
   "metadata": {},
   "outputs": [
    {
     "data": {
      "text/html": [
       "<div>\n",
       "<style scoped>\n",
       "    .dataframe tbody tr th:only-of-type {\n",
       "        vertical-align: middle;\n",
       "    }\n",
       "\n",
       "    .dataframe tbody tr th {\n",
       "        vertical-align: top;\n",
       "    }\n",
       "\n",
       "    .dataframe thead th {\n",
       "        text-align: right;\n",
       "    }\n",
       "</style>\n",
       "<table border=\"1\" class=\"dataframe\">\n",
       "  <thead>\n",
       "    <tr style=\"text-align: right;\">\n",
       "      <th></th>\n",
       "      <th>Number of Unique Items</th>\n",
       "      <th>Average Price</th>\n",
       "      <th>Number of Purchases</th>\n",
       "      <th>Total Revenue</th>\n",
       "    </tr>\n",
       "  </thead>\n",
       "  <tbody>\n",
       "    <tr>\n",
       "      <th>0</th>\n",
       "      <td>179</td>\n",
       "      <td>$3.05</td>\n",
       "      <td>780</td>\n",
       "      <td>2379.77</td>\n",
       "    </tr>\n",
       "  </tbody>\n",
       "</table>\n",
       "</div>"
      ],
      "text/plain": [
       "   Number of Unique Items Average Price  Number of Purchases  Total Revenue\n",
       "0                     179         $3.05                  780        2379.77"
      ]
     },
     "execution_count": 9,
     "metadata": {},
     "output_type": "execute_result"
    }
   ],
   "source": [
    "  purchasing_analysis_df"
   ]
  },
  {
   "cell_type": "markdown",
   "id": "advisory-mayor",
   "metadata": {},
   "source": [
    "## Gender Demographics "
   ]
  },
  {
   "cell_type": "code",
   "execution_count": 10,
   "id": "urban-childhood",
   "metadata": {},
   "outputs": [],
   "source": [
    "# Dropping Any Columns That Had Missing Values \n",
    "    \n",
    "main_df = main_df.dropna(how=\"any\")\n",
    "\n",
    "#main_df.count()"
   ]
  },
  {
   "cell_type": "code",
   "execution_count": 11,
   "id": "external-vector",
   "metadata": {},
   "outputs": [],
   "source": [
    "# Checking If Column Is Counting Unqiue Values\n",
    "    \n",
    "    unique_gender = main_df[\"Gender\"].value_counts()\n",
    "\n",
    "#unique_gender"
   ]
  },
  {
   "cell_type": "code",
   "execution_count": 12,
   "id": "framed-senior",
   "metadata": {},
   "outputs": [],
   "source": [
    "# Creating New DataFrame \n",
    "    \n",
    "    gender_df = main_df[[\"SN\",\"Gender\"]]"
   ]
  },
  {
   "cell_type": "code",
   "execution_count": 13,
   "id": "swiss-singer",
   "metadata": {},
   "outputs": [],
   "source": [
    "# Dropping Duplicates To Get Unique Values \n",
    "# https://stackoverflow.com/questions/43184491/df-unique-on-whole-dataframe-based-on-a-column\n",
    "\n",
    "gender_df = gender_df.drop_duplicates(subset=['SN'])\n",
    "\n",
    "# gender_df.head()"
   ]
  },
  {
   "cell_type": "code",
   "execution_count": 14,
   "id": "israeli-court",
   "metadata": {},
   "outputs": [],
   "source": [
    "# Checking If Data Frame Has Unique Values \n",
    "    \n",
    "    gender_counts = gender_df[\"Gender\"].value_counts()\n",
    "\n",
    "# gender_counts"
   ]
  },
  {
   "cell_type": "code",
   "execution_count": 15,
   "id": "optimum-laser",
   "metadata": {},
   "outputs": [],
   "source": [
    "# Creating Data Frame With Gender Index \n",
    "\n",
    "    just_gender_df = gender_df[[\"Gender\"]]\n",
    "    just_gender_df = pd.DataFrame(gender_counts)\n",
    "    gender_demographics_df = just_gender_df.rename(columns={\"Gender\":\"Total Count\"})\n",
    "\n",
    "# gender_demographics_df.head()"
   ]
  },
  {
   "cell_type": "code",
   "execution_count": 16,
   "id": "automotive-colors",
   "metadata": {},
   "outputs": [],
   "source": [
    "# Calulations For Gender Demographics\n",
    "\n",
    "    gender_sum = gender_demographics_df[\"Total Count\"].sum()\n",
    "    gender_average = (gender_demographics_df['Total Count'] / gender_sum)*100\n",
    "\n",
    "# gender_average"
   ]
  },
  {
   "cell_type": "code",
   "execution_count": 17,
   "id": "perceived-session",
   "metadata": {},
   "outputs": [],
   "source": [
    "# Adding Percentage Of Players Column\n",
    "\n",
    "    gender_demographics_df.loc[:, \"Percentage Of Players\"] = (gender_demographics_df['Total Count'] / gender_sum)*100\n",
    "\n",
    "# gender_demographics_df"
   ]
  },
  {
   "cell_type": "code",
   "execution_count": 18,
   "id": "distant-tract",
   "metadata": {},
   "outputs": [],
   "source": [
    "# Formatting Percentage Of Players Column\n",
    "\n",
    "    gender_demographics_df[\"Percentage Of Players\"] = gender_demographics_df[\"Percentage Of Players\"].astype(float).map(\n",
    "        \"{:,.2f}%\".format)\n",
    "    "
   ]
  },
  {
   "cell_type": "code",
   "execution_count": 19,
   "id": "entitled-drill",
   "metadata": {},
   "outputs": [
    {
     "data": {
      "text/html": [
       "<div>\n",
       "<style scoped>\n",
       "    .dataframe tbody tr th:only-of-type {\n",
       "        vertical-align: middle;\n",
       "    }\n",
       "\n",
       "    .dataframe tbody tr th {\n",
       "        vertical-align: top;\n",
       "    }\n",
       "\n",
       "    .dataframe thead th {\n",
       "        text-align: right;\n",
       "    }\n",
       "</style>\n",
       "<table border=\"1\" class=\"dataframe\">\n",
       "  <thead>\n",
       "    <tr style=\"text-align: right;\">\n",
       "      <th></th>\n",
       "      <th>Total Count</th>\n",
       "      <th>Percentage Of Players</th>\n",
       "    </tr>\n",
       "  </thead>\n",
       "  <tbody>\n",
       "    <tr>\n",
       "      <th>Male</th>\n",
       "      <td>484</td>\n",
       "      <td>84.03%</td>\n",
       "    </tr>\n",
       "    <tr>\n",
       "      <th>Female</th>\n",
       "      <td>81</td>\n",
       "      <td>14.06%</td>\n",
       "    </tr>\n",
       "    <tr>\n",
       "      <th>Other / Non-Disclosed</th>\n",
       "      <td>11</td>\n",
       "      <td>1.91%</td>\n",
       "    </tr>\n",
       "  </tbody>\n",
       "</table>\n",
       "</div>"
      ],
      "text/plain": [
       "                       Total Count Percentage Of Players\n",
       "Male                           484                84.03%\n",
       "Female                          81                14.06%\n",
       "Other / Non-Disclosed           11                 1.91%"
      ]
     },
     "execution_count": 19,
     "metadata": {},
     "output_type": "execute_result"
    }
   ],
   "source": [
    "gender_demographics_df"
   ]
  },
  {
   "cell_type": "markdown",
   "id": "technological-depth",
   "metadata": {},
   "source": [
    "## Purchasing Analysis (Gender) Table "
   ]
  },
  {
   "cell_type": "code",
   "execution_count": 20,
   "id": "hourly-government",
   "metadata": {},
   "outputs": [],
   "source": [
    "# Creating New DataFrame For Purchasing Analysis (Gender) Table\n",
    "\n",
    "    purchasing_analysis_gender_df = main_df[[\"Gender\",\"Purchase ID\",\"Price\"]]\n",
    "\n",
    "# purchasing_analysis_gender_df"
   ]
  },
  {
   "cell_type": "code",
   "execution_count": 21,
   "id": "fifteen-harassment",
   "metadata": {},
   "outputs": [],
   "source": [
    "# Groupping By Gender\n",
    "\n",
    "    grouped_gender_df = purchasing_analysis_gender_df.groupby(['Gender'])\n",
    "\n",
    "# print(grouped_gender_df)\n",
    "# grouped_gender_df.count().head(3)"
   ]
  },
  {
   "cell_type": "code",
   "execution_count": 22,
   "id": "considered-playlist",
   "metadata": {},
   "outputs": [],
   "source": [
    "# First 3 Calculations For Purchasing Analysis (Gender) \n",
    "\n",
    "    purchase_count_gender = grouped_gender_df[\"Purchase ID\"].count()\n",
    "    average_price_gender = grouped_gender_df[\"Price\"].mean()\n",
    "    t_purchase_value_gender = grouped_gender_df[\"Price\"].sum()\n"
   ]
  },
  {
   "cell_type": "code",
   "execution_count": 23,
   "id": "emerging-footage",
   "metadata": {},
   "outputs": [],
   "source": [
    "# Adding Calulations To DataFrame\n",
    "\n",
    "    purchase_gender_table = pd.DataFrame({\"Purchase Count\":purchase_count_gender,\n",
    "                                          \"Average Purchase Price\": average_price_gender,\n",
    "                                          \"Total Purchase Value\": t_purchase_value_gender})\n",
    "\n",
    "# purchase_gender_table.head()"
   ]
  },
  {
   "cell_type": "code",
   "execution_count": 24,
   "id": "outside-election",
   "metadata": {},
   "outputs": [],
   "source": [
    "# Last Calculation... \n",
    "\n",
    "    avgtot_purchase_person = purchase_gender_table[\"Total Purchase Value\"] / gender_demographics_df[\"Total Count\"]\n",
    "    \n",
    "# avgtot_purchase_person"
   ]
  },
  {
   "cell_type": "code",
   "execution_count": 25,
   "id": "reflected-tanzania",
   "metadata": {},
   "outputs": [],
   "source": [
    "# Adding Last Calculation To DataFrame \n",
    "# https://www.geeksforgeeks.org/adding-new-column-to-existing-dataframe-in-pandas/\n",
    "\n",
    "    purchase_gender_table[\"Avg Total Purchase Per Person\"] = avgtot_purchase_person\n",
    "\n",
    "# purchase_gender_table.head()"
   ]
  },
  {
   "cell_type": "code",
   "execution_count": 26,
   "id": "three-notion",
   "metadata": {},
   "outputs": [],
   "source": [
    "# Formatting Calculations \n",
    "\n",
    "    purchase_gender_table[\"Average Purchase Price\"] = purchase_gender_table[\"Average Purchase Price\"].astype(float).map(\n",
    "        \"${:,.2f}\".format)\n",
    "    purchase_gender_table[\"Total Purchase Value\"] = purchase_gender_table[\"Total Purchase Value\"].astype(float).map(\n",
    "        \"${:,.2f}\".format)\n",
    "    purchase_gender_table[\"Avg Total Purchase Per Person\"] = purchase_gender_table[\"Avg Total Purchase Per Person\"].astype(float).map(\n",
    "        \"${:,.2f}\".format)\n",
    "    "
   ]
  },
  {
   "cell_type": "code",
   "execution_count": 27,
   "id": "proof-woman",
   "metadata": {},
   "outputs": [
    {
     "data": {
      "text/html": [
       "<div>\n",
       "<style scoped>\n",
       "    .dataframe tbody tr th:only-of-type {\n",
       "        vertical-align: middle;\n",
       "    }\n",
       "\n",
       "    .dataframe tbody tr th {\n",
       "        vertical-align: top;\n",
       "    }\n",
       "\n",
       "    .dataframe thead th {\n",
       "        text-align: right;\n",
       "    }\n",
       "</style>\n",
       "<table border=\"1\" class=\"dataframe\">\n",
       "  <thead>\n",
       "    <tr style=\"text-align: right;\">\n",
       "      <th></th>\n",
       "      <th>Purchase Count</th>\n",
       "      <th>Average Purchase Price</th>\n",
       "      <th>Total Purchase Value</th>\n",
       "      <th>Avg Total Purchase Per Person</th>\n",
       "    </tr>\n",
       "    <tr>\n",
       "      <th>Gender</th>\n",
       "      <th></th>\n",
       "      <th></th>\n",
       "      <th></th>\n",
       "      <th></th>\n",
       "    </tr>\n",
       "  </thead>\n",
       "  <tbody>\n",
       "    <tr>\n",
       "      <th>Female</th>\n",
       "      <td>113</td>\n",
       "      <td>$3.20</td>\n",
       "      <td>$361.94</td>\n",
       "      <td>$4.47</td>\n",
       "    </tr>\n",
       "    <tr>\n",
       "      <th>Male</th>\n",
       "      <td>652</td>\n",
       "      <td>$3.02</td>\n",
       "      <td>$1,967.64</td>\n",
       "      <td>$4.07</td>\n",
       "    </tr>\n",
       "    <tr>\n",
       "      <th>Other / Non-Disclosed</th>\n",
       "      <td>15</td>\n",
       "      <td>$3.35</td>\n",
       "      <td>$50.19</td>\n",
       "      <td>$4.56</td>\n",
       "    </tr>\n",
       "  </tbody>\n",
       "</table>\n",
       "</div>"
      ],
      "text/plain": [
       "                       Purchase Count Average Purchase Price  \\\n",
       "Gender                                                         \n",
       "Female                            113                  $3.20   \n",
       "Male                              652                  $3.02   \n",
       "Other / Non-Disclosed              15                  $3.35   \n",
       "\n",
       "                      Total Purchase Value Avg Total Purchase Per Person  \n",
       "Gender                                                                    \n",
       "Female                             $361.94                         $4.47  \n",
       "Male                             $1,967.64                         $4.07  \n",
       "Other / Non-Disclosed               $50.19                         $4.56  "
      ]
     },
     "execution_count": 27,
     "metadata": {},
     "output_type": "execute_result"
    }
   ],
   "source": [
    "purchase_gender_table"
   ]
  },
  {
   "cell_type": "markdown",
   "id": "north-falls",
   "metadata": {},
   "source": [
    "## Age Demographics "
   ]
  },
  {
   "cell_type": "code",
   "execution_count": 28,
   "id": "comparative-swiss",
   "metadata": {},
   "outputs": [],
   "source": [
    "# Creating New DataFrame For Age Demographics\n",
    "\n",
    "    demographics_df = main_df[[\"Age\",\"SN\"]]\n",
    "\n",
    "# Dropping Duplicates To Get Unique Values\n",
    "\n",
    "    demographics_df = demographics_df.drop_duplicates(subset=['SN'])\n",
    "\n",
    "# demographics_df"
   ]
  },
  {
   "cell_type": "code",
   "execution_count": 29,
   "id": "sharing-stack",
   "metadata": {},
   "outputs": [],
   "source": [
    "# Creating New DataFrame With Only Column Age \n",
    "\n",
    "    just_age_df = demographics_df[[\"Age\"]]\n",
    "    \n",
    "# just_age_df"
   ]
  },
  {
   "cell_type": "code",
   "execution_count": 30,
   "id": "applied-singer",
   "metadata": {},
   "outputs": [],
   "source": [
    "# Creating Max Variable \n",
    "\n",
    "    max_age = just_age_df[\"Age\"].max()\n",
    "\n",
    "# max_age"
   ]
  },
  {
   "cell_type": "code",
   "execution_count": 31,
   "id": "amber-briefing",
   "metadata": {},
   "outputs": [],
   "source": [
    "# Creating Bins and Group Names For Binning Age\n",
    "\n",
    "    bins = [0, 9, 14, 19, 24, 29, 34, 39, max_age]\n",
    "\n",
    "    group_names = [\"<10\",\"10-14\",\"15-19\",\"20-24\",\"25-29\",\"30-34\",\"35-39\",\"40+\"]"
   ]
  },
  {
   "cell_type": "code",
   "execution_count": 32,
   "id": "previous-compromise",
   "metadata": {},
   "outputs": [],
   "source": [
    "# Using pd.cut For Binning Age\n",
    "\n",
    "    just_age_df[\"Total Count\"] = pd.cut(just_age_df[\"Age\"], bins, \n",
    "                                    labels=group_names, include_lowest=True)\n",
    "# just_age_df"
   ]
  },
  {
   "cell_type": "code",
   "execution_count": 33,
   "id": "atlantic-dispatch",
   "metadata": {},
   "outputs": [],
   "source": [
    "# Checking Data Types \n",
    "# just_age_df.dtypes"
   ]
  },
  {
   "cell_type": "code",
   "execution_count": 34,
   "id": "french-pittsburgh",
   "metadata": {},
   "outputs": [],
   "source": [
    "# Checking Column\n",
    "\n",
    "    age_counts = just_age_df[\"Total Count\"].value_counts()\n",
    "\n",
    "# age_counts"
   ]
  },
  {
   "cell_type": "code",
   "execution_count": 35,
   "id": "ongoing-treasurer",
   "metadata": {},
   "outputs": [],
   "source": [
    "# Setting Index\n",
    "\n",
    "    age_index_df = pd.DataFrame(age_counts)\n",
    "\n",
    "# age_index_df"
   ]
  },
  {
   "cell_type": "code",
   "execution_count": 36,
   "id": "modular-maintenance",
   "metadata": {},
   "outputs": [],
   "source": [
    "# Setting Index To Ascending Order \n",
    "\n",
    "    age_demographics_df = age_index_df.sort_index(ascending=True)\n",
    "\n",
    "# age_demographics_df"
   ]
  },
  {
   "cell_type": "code",
   "execution_count": 37,
   "id": "necessary-healing",
   "metadata": {},
   "outputs": [],
   "source": [
    "# Calulation...\n",
    "    \n",
    "    percent_of_players_age = (age_demographics_df[\"Total Count\"] / age_demographics_df[\"Total Count\"].sum())*100\n",
    "\n",
    "# percent_of_players_age"
   ]
  },
  {
   "cell_type": "code",
   "execution_count": 38,
   "id": "european-theta",
   "metadata": {},
   "outputs": [],
   "source": [
    "# Adding Calulation As Column \n",
    "\n",
    "    age_demographics_df[\"Percentage of Players\"] = percent_of_players_age\n",
    "    age_demographics_df[\"Percentage of Players\"] = age_demographics_df[\"Percentage of Players\"].astype(float).map(\n",
    "        \"{:,.2f}%\".format)\n",
    "    "
   ]
  },
  {
   "cell_type": "code",
   "execution_count": 39,
   "id": "amino-housing",
   "metadata": {},
   "outputs": [
    {
     "data": {
      "text/html": [
       "<div>\n",
       "<style scoped>\n",
       "    .dataframe tbody tr th:only-of-type {\n",
       "        vertical-align: middle;\n",
       "    }\n",
       "\n",
       "    .dataframe tbody tr th {\n",
       "        vertical-align: top;\n",
       "    }\n",
       "\n",
       "    .dataframe thead th {\n",
       "        text-align: right;\n",
       "    }\n",
       "</style>\n",
       "<table border=\"1\" class=\"dataframe\">\n",
       "  <thead>\n",
       "    <tr style=\"text-align: right;\">\n",
       "      <th></th>\n",
       "      <th>Total Count</th>\n",
       "      <th>Percentage of Players</th>\n",
       "    </tr>\n",
       "  </thead>\n",
       "  <tbody>\n",
       "    <tr>\n",
       "      <th>&lt;10</th>\n",
       "      <td>17</td>\n",
       "      <td>2.95%</td>\n",
       "    </tr>\n",
       "    <tr>\n",
       "      <th>10-14</th>\n",
       "      <td>22</td>\n",
       "      <td>3.82%</td>\n",
       "    </tr>\n",
       "    <tr>\n",
       "      <th>15-19</th>\n",
       "      <td>107</td>\n",
       "      <td>18.58%</td>\n",
       "    </tr>\n",
       "    <tr>\n",
       "      <th>20-24</th>\n",
       "      <td>258</td>\n",
       "      <td>44.79%</td>\n",
       "    </tr>\n",
       "    <tr>\n",
       "      <th>25-29</th>\n",
       "      <td>77</td>\n",
       "      <td>13.37%</td>\n",
       "    </tr>\n",
       "    <tr>\n",
       "      <th>30-34</th>\n",
       "      <td>52</td>\n",
       "      <td>9.03%</td>\n",
       "    </tr>\n",
       "    <tr>\n",
       "      <th>35-39</th>\n",
       "      <td>31</td>\n",
       "      <td>5.38%</td>\n",
       "    </tr>\n",
       "    <tr>\n",
       "      <th>40+</th>\n",
       "      <td>12</td>\n",
       "      <td>2.08%</td>\n",
       "    </tr>\n",
       "  </tbody>\n",
       "</table>\n",
       "</div>"
      ],
      "text/plain": [
       "       Total Count Percentage of Players\n",
       "<10             17                 2.95%\n",
       "10-14           22                 3.82%\n",
       "15-19          107                18.58%\n",
       "20-24          258                44.79%\n",
       "25-29           77                13.37%\n",
       "30-34           52                 9.03%\n",
       "35-39           31                 5.38%\n",
       "40+             12                 2.08%"
      ]
     },
     "execution_count": 39,
     "metadata": {},
     "output_type": "execute_result"
    }
   ],
   "source": [
    "age_demographics_df"
   ]
  },
  {
   "cell_type": "markdown",
   "id": "informed-clearance",
   "metadata": {},
   "source": [
    "## Purchasing Analysis (Age) "
   ]
  },
  {
   "cell_type": "code",
   "execution_count": 40,
   "id": "academic-musician",
   "metadata": {
    "scrolled": false
   },
   "outputs": [],
   "source": [
    "# Creating DataFrame With Selected Columns \n",
    "\n",
    "    just_purchase_n_age_df = main_df[[\"Age\",\"Purchase ID\", \"Price\"]]\n",
    "    \n",
    "# just_purchase_n_age_df"
   ]
  },
  {
   "cell_type": "code",
   "execution_count": 41,
   "id": "dangerous-berlin",
   "metadata": {},
   "outputs": [],
   "source": [
    "# Setting A Max Variable \n",
    "\n",
    "    max_age_copy = just_purchase_n_age_df[\"Age\"].max()\n"
   ]
  },
  {
   "cell_type": "code",
   "execution_count": 42,
   "id": "superb-material",
   "metadata": {},
   "outputs": [],
   "source": [
    "# Setting Bins And Group Names \n",
    "\n",
    "    bins_copy = [0, 9, 14, 19, 24, 29, 34, 39, max_age_copy]\n",
    "\n",
    "    group_names_copy = [\"<10\",\"10-14\",\"15-19\",\"20-24\",\"25-29\",\"30-34\",\"35-39\",\"40+\"]\n"
   ]
  },
  {
   "cell_type": "code",
   "execution_count": 43,
   "id": "pointed-cover",
   "metadata": {},
   "outputs": [],
   "source": [
    "# Using pd.cut For Binning \n",
    "\n",
    "    just_purchase_n_age_df[\"Age Ranges\"] = pd.cut(just_purchase_n_age_df[\"Age\"], bins_copy, \n",
    "                                    labels=group_names_copy, include_lowest=True)\n",
    "\n",
    "# just_purchase_n_age_df"
   ]
  },
  {
   "cell_type": "code",
   "execution_count": 44,
   "id": "selective-reference",
   "metadata": {},
   "outputs": [],
   "source": [
    "# Group By Age Ranges \n",
    "    \n",
    "    groupby_bin_df = just_purchase_n_age_df.groupby(\"Age Ranges\")\n",
    "\n",
    "# print(just_purchase_n_age_df)\n",
    "# groupby_bin_df.count().head(8)"
   ]
  },
  {
   "cell_type": "code",
   "execution_count": 45,
   "id": "illegal-chain",
   "metadata": {
    "scrolled": false
   },
   "outputs": [],
   "source": [
    "# Calculations...\n",
    "\n",
    "    purchase_count_age = groupby_bin_df[\"Purchase ID\"].count()\n",
    "    average_purchase_price_age = groupby_bin_df[\"Price\"].mean()\n",
    "    t_purchase_value_age = groupby_bin_df[\"Price\"].sum()\n",
    "    "
   ]
  },
  {
   "cell_type": "code",
   "execution_count": 46,
   "id": "systematic-entry",
   "metadata": {},
   "outputs": [],
   "source": [
    "# Adding Calculations As Columns \n",
    "\n",
    "    purchase_age_table = pd.DataFrame({\"Purchase Count\":purchase_count_age,\n",
    "                                   \"Average Purchase Price\":average_purchase_price_age,\n",
    "                                   \"Total Purchase Value\":t_purchase_value_age})\n",
    "\n",
    "# purchase_age_table.head(8)       "
   ]
  },
  {
   "cell_type": "code",
   "execution_count": 47,
   "id": "specialized-stations",
   "metadata": {},
   "outputs": [],
   "source": [
    "# Calculations For \"Avg Total Purchase Per Person\"\n",
    "    \n",
    "    avgtot_purchase_person_age = purchase_age_table[\"Total Purchase Value\"]/ age_demographics_df[\"Total Count\"]\n",
    "\n",
    "# avgtot_purchase_person_age"
   ]
  },
  {
   "cell_type": "code",
   "execution_count": 48,
   "id": "experienced-orleans",
   "metadata": {},
   "outputs": [],
   "source": [
    "# Adding Calculation to DataFrame As A Column \n",
    "\n",
    "    purchase_age_table[\"Avg Total Purchase Per Person\"] = avgtot_purchase_person_age\n",
    "\n",
    "# purchase_age_table.head(8)"
   ]
  },
  {
   "cell_type": "code",
   "execution_count": 49,
   "id": "first-scientist",
   "metadata": {},
   "outputs": [],
   "source": [
    "# Formatting Columns \n",
    "\n",
    "    purchase_age_table[\"Average Purchase Price\"] = purchase_age_table[\"Average Purchase Price\"].map(\n",
    "        \"${:,.2f}\".format)\n",
    "\n",
    "    purchase_age_table[\"Total Purchase Value\"] = purchase_age_table[\"Total Purchase Value\"].map(\n",
    "        \"${:,.2f}\".format)\n",
    "\n",
    "    purchase_age_table[\"Avg Total Purchase Per Person\"] = purchase_age_table[\"Avg Total Purchase Per Person\"].map(\n",
    "        \"${:,.2f}\".format)\n"
   ]
  },
  {
   "cell_type": "code",
   "execution_count": 50,
   "id": "suffering-search",
   "metadata": {},
   "outputs": [
    {
     "data": {
      "text/html": [
       "<div>\n",
       "<style scoped>\n",
       "    .dataframe tbody tr th:only-of-type {\n",
       "        vertical-align: middle;\n",
       "    }\n",
       "\n",
       "    .dataframe tbody tr th {\n",
       "        vertical-align: top;\n",
       "    }\n",
       "\n",
       "    .dataframe thead th {\n",
       "        text-align: right;\n",
       "    }\n",
       "</style>\n",
       "<table border=\"1\" class=\"dataframe\">\n",
       "  <thead>\n",
       "    <tr style=\"text-align: right;\">\n",
       "      <th></th>\n",
       "      <th>Purchase Count</th>\n",
       "      <th>Average Purchase Price</th>\n",
       "      <th>Total Purchase Value</th>\n",
       "      <th>Avg Total Purchase Per Person</th>\n",
       "    </tr>\n",
       "    <tr>\n",
       "      <th>Age Ranges</th>\n",
       "      <th></th>\n",
       "      <th></th>\n",
       "      <th></th>\n",
       "      <th></th>\n",
       "    </tr>\n",
       "  </thead>\n",
       "  <tbody>\n",
       "    <tr>\n",
       "      <th>&lt;10</th>\n",
       "      <td>23</td>\n",
       "      <td>$3.35</td>\n",
       "      <td>$77.13</td>\n",
       "      <td>$4.54</td>\n",
       "    </tr>\n",
       "    <tr>\n",
       "      <th>10-14</th>\n",
       "      <td>28</td>\n",
       "      <td>$2.96</td>\n",
       "      <td>$82.78</td>\n",
       "      <td>$3.76</td>\n",
       "    </tr>\n",
       "    <tr>\n",
       "      <th>15-19</th>\n",
       "      <td>136</td>\n",
       "      <td>$3.04</td>\n",
       "      <td>$412.89</td>\n",
       "      <td>$3.86</td>\n",
       "    </tr>\n",
       "    <tr>\n",
       "      <th>20-24</th>\n",
       "      <td>365</td>\n",
       "      <td>$3.05</td>\n",
       "      <td>$1,114.06</td>\n",
       "      <td>$4.32</td>\n",
       "    </tr>\n",
       "    <tr>\n",
       "      <th>25-29</th>\n",
       "      <td>101</td>\n",
       "      <td>$2.90</td>\n",
       "      <td>$293.00</td>\n",
       "      <td>$3.81</td>\n",
       "    </tr>\n",
       "    <tr>\n",
       "      <th>30-34</th>\n",
       "      <td>73</td>\n",
       "      <td>$2.93</td>\n",
       "      <td>$214.00</td>\n",
       "      <td>$4.12</td>\n",
       "    </tr>\n",
       "    <tr>\n",
       "      <th>35-39</th>\n",
       "      <td>41</td>\n",
       "      <td>$3.60</td>\n",
       "      <td>$147.67</td>\n",
       "      <td>$4.76</td>\n",
       "    </tr>\n",
       "    <tr>\n",
       "      <th>40+</th>\n",
       "      <td>13</td>\n",
       "      <td>$2.94</td>\n",
       "      <td>$38.24</td>\n",
       "      <td>$3.19</td>\n",
       "    </tr>\n",
       "  </tbody>\n",
       "</table>\n",
       "</div>"
      ],
      "text/plain": [
       "            Purchase Count Average Purchase Price Total Purchase Value  \\\n",
       "Age Ranges                                                               \n",
       "<10                     23                  $3.35               $77.13   \n",
       "10-14                   28                  $2.96               $82.78   \n",
       "15-19                  136                  $3.04              $412.89   \n",
       "20-24                  365                  $3.05            $1,114.06   \n",
       "25-29                  101                  $2.90              $293.00   \n",
       "30-34                   73                  $2.93              $214.00   \n",
       "35-39                   41                  $3.60              $147.67   \n",
       "40+                     13                  $2.94               $38.24   \n",
       "\n",
       "           Avg Total Purchase Per Person  \n",
       "Age Ranges                                \n",
       "<10                                $4.54  \n",
       "10-14                              $3.76  \n",
       "15-19                              $3.86  \n",
       "20-24                              $4.32  \n",
       "25-29                              $3.81  \n",
       "30-34                              $4.12  \n",
       "35-39                              $4.76  \n",
       "40+                                $3.19  "
      ]
     },
     "execution_count": 50,
     "metadata": {},
     "output_type": "execute_result"
    }
   ],
   "source": [
    "purchase_age_table"
   ]
  },
  {
   "cell_type": "markdown",
   "id": "proved-assist",
   "metadata": {},
   "source": [
    "## Top Spenders "
   ]
  },
  {
   "cell_type": "code",
   "execution_count": 51,
   "id": "digital-wholesale",
   "metadata": {},
   "outputs": [],
   "source": [
    "# Creating New Data Frame For Top Spenders \n",
    "\n",
    "    top_spenders_df = main_df[[\"SN\",\"Purchase ID\", \"Price\"]]\n",
    "\n",
    "# top_spenders_df"
   ]
  },
  {
   "cell_type": "code",
   "execution_count": 52,
   "id": "cellular-switch",
   "metadata": {},
   "outputs": [],
   "source": [
    "# Groupping By Screen Name \n",
    "\n",
    "    index_sn_df = top_spenders_df.groupby(\"SN\")\n",
    "\n",
    "# print(top_spenders_df)\n",
    "# index_sn_df.count().head(8)"
   ]
  },
  {
   "cell_type": "code",
   "execution_count": 53,
   "id": "above-nicholas",
   "metadata": {},
   "outputs": [],
   "source": [
    "# Calculations For Top Spenders \n",
    "\n",
    "    purchase_count_sn = index_sn_df[\"Purchase ID\"].count()\n",
    "    average_purchase_price_sn = index_sn_df[\"Price\"].mean()\n",
    "    total_purchase_value_sn = index_sn_df[\"Price\"].mean() * index_sn_df[\"Purchase ID\"].count()\n",
    "\n"
   ]
  },
  {
   "cell_type": "code",
   "execution_count": 54,
   "id": "polish-czech",
   "metadata": {},
   "outputs": [],
   "source": [
    "# Adding Calculations To DataFrame \n",
    "\n",
    "    top_spenders_table = pd.DataFrame({\"Purchase Count\":purchase_count_sn,\n",
    "                                   \"Average Purchase Price\":average_purchase_price_sn,\n",
    "                                   \"Total Purchase Value\":total_purchase_value_sn})\n",
    "\n",
    "# top_spenders_table.head(5)     "
   ]
  },
  {
   "cell_type": "code",
   "execution_count": 55,
   "id": "healthy-story",
   "metadata": {},
   "outputs": [],
   "source": [
    "# Total Purchase Value Column In Descending Order\n",
    "# https://stackoverflow.com/questions/37787698/how-to-sort-pandas-dataframe-from-one-column\n",
    "    \n",
    "top_spenders_table = top_spenders_table.sort_values(\"Total Purchase Value\"\n",
    "                                                    ,ascending=False)\n",
    "# top_spenders_table.head(5)   "
   ]
  },
  {
   "cell_type": "code",
   "execution_count": 56,
   "id": "pointed-hypothetical",
   "metadata": {},
   "outputs": [],
   "source": [
    "# Formatting Columns \n",
    "\n",
    "    top_spenders_table[\"Average Purchase Price\"] = top_spenders_table[\"Average Purchase Price\"].map(\n",
    "        \"${:,.2f}\".format)\n",
    "    top_spenders_table[\"Total Purchase Value\"] = top_spenders_table[\"Total Purchase Value\"].map(\n",
    "        \"${:,.2f}\".format)\n"
   ]
  },
  {
   "cell_type": "code",
   "execution_count": 57,
   "id": "decreased-ultimate",
   "metadata": {},
   "outputs": [
    {
     "data": {
      "text/html": [
       "<div>\n",
       "<style scoped>\n",
       "    .dataframe tbody tr th:only-of-type {\n",
       "        vertical-align: middle;\n",
       "    }\n",
       "\n",
       "    .dataframe tbody tr th {\n",
       "        vertical-align: top;\n",
       "    }\n",
       "\n",
       "    .dataframe thead th {\n",
       "        text-align: right;\n",
       "    }\n",
       "</style>\n",
       "<table border=\"1\" class=\"dataframe\">\n",
       "  <thead>\n",
       "    <tr style=\"text-align: right;\">\n",
       "      <th></th>\n",
       "      <th>Purchase Count</th>\n",
       "      <th>Average Purchase Price</th>\n",
       "      <th>Total Purchase Value</th>\n",
       "    </tr>\n",
       "    <tr>\n",
       "      <th>SN</th>\n",
       "      <th></th>\n",
       "      <th></th>\n",
       "      <th></th>\n",
       "    </tr>\n",
       "  </thead>\n",
       "  <tbody>\n",
       "    <tr>\n",
       "      <th>Lisosia93</th>\n",
       "      <td>5</td>\n",
       "      <td>$3.79</td>\n",
       "      <td>$18.96</td>\n",
       "    </tr>\n",
       "    <tr>\n",
       "      <th>Idastidru52</th>\n",
       "      <td>4</td>\n",
       "      <td>$3.86</td>\n",
       "      <td>$15.45</td>\n",
       "    </tr>\n",
       "    <tr>\n",
       "      <th>Chamjask73</th>\n",
       "      <td>3</td>\n",
       "      <td>$4.61</td>\n",
       "      <td>$13.83</td>\n",
       "    </tr>\n",
       "    <tr>\n",
       "      <th>Iral74</th>\n",
       "      <td>4</td>\n",
       "      <td>$3.40</td>\n",
       "      <td>$13.62</td>\n",
       "    </tr>\n",
       "    <tr>\n",
       "      <th>Iskadarya95</th>\n",
       "      <td>3</td>\n",
       "      <td>$4.37</td>\n",
       "      <td>$13.10</td>\n",
       "    </tr>\n",
       "  </tbody>\n",
       "</table>\n",
       "</div>"
      ],
      "text/plain": [
       "             Purchase Count Average Purchase Price Total Purchase Value\n",
       "SN                                                                     \n",
       "Lisosia93                 5                  $3.79               $18.96\n",
       "Idastidru52               4                  $3.86               $15.45\n",
       "Chamjask73                3                  $4.61               $13.83\n",
       "Iral74                    4                  $3.40               $13.62\n",
       "Iskadarya95               3                  $4.37               $13.10"
      ]
     },
     "execution_count": 57,
     "metadata": {},
     "output_type": "execute_result"
    }
   ],
   "source": [
    "top_spenders_table.head(5)"
   ]
  },
  {
   "cell_type": "markdown",
   "id": "radical-macro",
   "metadata": {},
   "source": [
    "## Most Popular Items"
   ]
  },
  {
   "cell_type": "code",
   "execution_count": 58,
   "id": "rising-reply",
   "metadata": {},
   "outputs": [],
   "source": [
    "# New DataFrame For Most Popular Items\n",
    "\n",
    "    most_popular_retrieval = main_df[[\"Item ID\",\"Item Name\",\"Price\"]]\n",
    "\n",
    "# most_popular_retrieval"
   ]
  },
  {
   "cell_type": "code",
   "execution_count": 59,
   "id": "electoral-courage",
   "metadata": {},
   "outputs": [],
   "source": [
    "# GroupBy Item ID and Name     \n",
    "    \n",
    "    index_id_title = most_popular_retrieval.groupby([\"Item ID\",\"Item Name\"])\n",
    "\n",
    "# print(most_popular_retrieval)\n",
    "# index_id_title.count().head(8)"
   ]
  },
  {
   "cell_type": "code",
   "execution_count": 60,
   "id": "fallen-communication",
   "metadata": {},
   "outputs": [],
   "source": [
    "# Calculations...\n",
    "    \n",
    "    purchase_count_item = index_id_title[\"Item ID\"].count()\n",
    "    each_item_price = index_id_title[\"Price\"].mean()\n",
    "    total_purchase_value_item = index_id_title[\"Price\"].mean() * index_id_title[\"Item ID\"].count()\n"
   ]
  },
  {
   "cell_type": "code",
   "execution_count": 61,
   "id": "taken-stadium",
   "metadata": {},
   "outputs": [],
   "source": [
    "# Inputting Calculations To DataFrame \n",
    "    \n",
    "    most_popular_table = pd.DataFrame({\"Purchase Count\":purchase_count_item,\n",
    "                                       \"Item Price\":each_item_price,\n",
    "                                       \"Total Purchase Value\":total_purchase_value_item})\n",
    "\n",
    "# most_popular_table.head(10)"
   ]
  },
  {
   "cell_type": "code",
   "execution_count": 62,
   "id": "disciplinary-catholic",
   "metadata": {},
   "outputs": [],
   "source": [
    "# A Copy Table To Use Later For Most Profitable Table \n",
    "\n",
    "    most_popular_table_copy = most_popular_table\n",
    "    "
   ]
  },
  {
   "cell_type": "code",
   "execution_count": 63,
   "id": "tired-stability",
   "metadata": {},
   "outputs": [],
   "source": [
    "# Purchase Count Column In Descending Order\n",
    "# https://stackoverflow.com/questions/37787698/how-to-sort-pandas-dataframe-from-one-column\n",
    "\n",
    "most_popular_table = most_popular_table.sort_values(\"Purchase Count\"\n",
    "                                                    ,ascending=False)\n",
    "# most_popular_table.head(5)"
   ]
  },
  {
   "cell_type": "code",
   "execution_count": 64,
   "id": "material-pendant",
   "metadata": {},
   "outputs": [],
   "source": [
    "# Formating Columns \n",
    "\n",
    "    most_popular_table[\"Item Price\"] = most_popular_table[\"Item Price\"].astype(float).map(\n",
    "        \"${:,.2f}\".format)\n",
    "\n",
    "    most_popular_table[\"Total Purchase Value\"] = most_popular_table[\"Total Purchase Value\"].astype(float).map(\n",
    "        \"${:,.2f}\".format)\n"
   ]
  },
  {
   "cell_type": "code",
   "execution_count": 65,
   "id": "integral-ladder",
   "metadata": {},
   "outputs": [
    {
     "data": {
      "text/html": [
       "<div>\n",
       "<style scoped>\n",
       "    .dataframe tbody tr th:only-of-type {\n",
       "        vertical-align: middle;\n",
       "    }\n",
       "\n",
       "    .dataframe tbody tr th {\n",
       "        vertical-align: top;\n",
       "    }\n",
       "\n",
       "    .dataframe thead th {\n",
       "        text-align: right;\n",
       "    }\n",
       "</style>\n",
       "<table border=\"1\" class=\"dataframe\">\n",
       "  <thead>\n",
       "    <tr style=\"text-align: right;\">\n",
       "      <th></th>\n",
       "      <th></th>\n",
       "      <th>Purchase Count</th>\n",
       "      <th>Item Price</th>\n",
       "      <th>Total Purchase Value</th>\n",
       "    </tr>\n",
       "    <tr>\n",
       "      <th>Item ID</th>\n",
       "      <th>Item Name</th>\n",
       "      <th></th>\n",
       "      <th></th>\n",
       "      <th></th>\n",
       "    </tr>\n",
       "  </thead>\n",
       "  <tbody>\n",
       "    <tr>\n",
       "      <th>92</th>\n",
       "      <th>Final Critic</th>\n",
       "      <td>13</td>\n",
       "      <td>$4.61</td>\n",
       "      <td>$59.99</td>\n",
       "    </tr>\n",
       "    <tr>\n",
       "      <th>178</th>\n",
       "      <th>Oathbreaker, Last Hope of the Breaking Storm</th>\n",
       "      <td>12</td>\n",
       "      <td>$4.23</td>\n",
       "      <td>$50.76</td>\n",
       "    </tr>\n",
       "    <tr>\n",
       "      <th>145</th>\n",
       "      <th>Fiery Glass Crusader</th>\n",
       "      <td>9</td>\n",
       "      <td>$4.58</td>\n",
       "      <td>$41.22</td>\n",
       "    </tr>\n",
       "    <tr>\n",
       "      <th>132</th>\n",
       "      <th>Persuasion</th>\n",
       "      <td>9</td>\n",
       "      <td>$3.22</td>\n",
       "      <td>$28.99</td>\n",
       "    </tr>\n",
       "    <tr>\n",
       "      <th>108</th>\n",
       "      <th>Extraction, Quickblade Of Trembling Hands</th>\n",
       "      <td>9</td>\n",
       "      <td>$3.53</td>\n",
       "      <td>$31.77</td>\n",
       "    </tr>\n",
       "  </tbody>\n",
       "</table>\n",
       "</div>"
      ],
      "text/plain": [
       "                                                      Purchase Count  \\\n",
       "Item ID Item Name                                                      \n",
       "92      Final Critic                                              13   \n",
       "178     Oathbreaker, Last Hope of the Breaking Storm              12   \n",
       "145     Fiery Glass Crusader                                       9   \n",
       "132     Persuasion                                                 9   \n",
       "108     Extraction, Quickblade Of Trembling Hands                  9   \n",
       "\n",
       "                                                     Item Price  \\\n",
       "Item ID Item Name                                                 \n",
       "92      Final Critic                                      $4.61   \n",
       "178     Oathbreaker, Last Hope of the Breaking Storm      $4.23   \n",
       "145     Fiery Glass Crusader                              $4.58   \n",
       "132     Persuasion                                        $3.22   \n",
       "108     Extraction, Quickblade Of Trembling Hands         $3.53   \n",
       "\n",
       "                                                     Total Purchase Value  \n",
       "Item ID Item Name                                                          \n",
       "92      Final Critic                                               $59.99  \n",
       "178     Oathbreaker, Last Hope of the Breaking Storm               $50.76  \n",
       "145     Fiery Glass Crusader                                       $41.22  \n",
       "132     Persuasion                                                 $28.99  \n",
       "108     Extraction, Quickblade Of Trembling Hands                  $31.77  "
      ]
     },
     "execution_count": 65,
     "metadata": {},
     "output_type": "execute_result"
    }
   ],
   "source": [
    "most_popular_table.head(5)"
   ]
  },
  {
   "cell_type": "markdown",
   "id": "amazing-mirror",
   "metadata": {},
   "source": [
    "## Most Profitable"
   ]
  },
  {
   "cell_type": "code",
   "execution_count": 66,
   "id": "adapted-luther",
   "metadata": {},
   "outputs": [],
   "source": [
    "# Creating New DataFrame / Total Purchase Value In Descending Order\n",
    "    \n",
    "    most_profitable_table = most_popular_table_copy.sort_values(\"Total Purchase Value\"\n",
    "                                                                ,ascending=False)\n",
    "\n",
    "# most_profitable_table.head(5)"
   ]
  },
  {
   "cell_type": "code",
   "execution_count": 67,
   "id": "conscious-craps",
   "metadata": {},
   "outputs": [],
   "source": [
    "# Formating Columns \n",
    "\n",
    "    most_profitable_table[\"Item Price\"] = most_profitable_table[\"Item Price\"].astype(float).map(\n",
    "        \"${:,.2f}\".format)\n",
    "\n",
    "    most_profitable_table[\"Total Purchase Value\"] = most_profitable_table[\"Total Purchase Value\"].astype(float).map(\n",
    "        \"${:,.2f}\".format)\n"
   ]
  },
  {
   "cell_type": "code",
   "execution_count": 68,
   "id": "imported-personality",
   "metadata": {},
   "outputs": [
    {
     "data": {
      "text/html": [
       "<div>\n",
       "<style scoped>\n",
       "    .dataframe tbody tr th:only-of-type {\n",
       "        vertical-align: middle;\n",
       "    }\n",
       "\n",
       "    .dataframe tbody tr th {\n",
       "        vertical-align: top;\n",
       "    }\n",
       "\n",
       "    .dataframe thead th {\n",
       "        text-align: right;\n",
       "    }\n",
       "</style>\n",
       "<table border=\"1\" class=\"dataframe\">\n",
       "  <thead>\n",
       "    <tr style=\"text-align: right;\">\n",
       "      <th></th>\n",
       "      <th></th>\n",
       "      <th>Purchase Count</th>\n",
       "      <th>Item Price</th>\n",
       "      <th>Total Purchase Value</th>\n",
       "    </tr>\n",
       "    <tr>\n",
       "      <th>Item ID</th>\n",
       "      <th>Item Name</th>\n",
       "      <th></th>\n",
       "      <th></th>\n",
       "      <th></th>\n",
       "    </tr>\n",
       "  </thead>\n",
       "  <tbody>\n",
       "    <tr>\n",
       "      <th>92</th>\n",
       "      <th>Final Critic</th>\n",
       "      <td>13</td>\n",
       "      <td>$4.61</td>\n",
       "      <td>$59.99</td>\n",
       "    </tr>\n",
       "    <tr>\n",
       "      <th>178</th>\n",
       "      <th>Oathbreaker, Last Hope of the Breaking Storm</th>\n",
       "      <td>12</td>\n",
       "      <td>$4.23</td>\n",
       "      <td>$50.76</td>\n",
       "    </tr>\n",
       "    <tr>\n",
       "      <th>82</th>\n",
       "      <th>Nirvana</th>\n",
       "      <td>9</td>\n",
       "      <td>$4.90</td>\n",
       "      <td>$44.10</td>\n",
       "    </tr>\n",
       "    <tr>\n",
       "      <th>145</th>\n",
       "      <th>Fiery Glass Crusader</th>\n",
       "      <td>9</td>\n",
       "      <td>$4.58</td>\n",
       "      <td>$41.22</td>\n",
       "    </tr>\n",
       "    <tr>\n",
       "      <th>103</th>\n",
       "      <th>Singed Scalpel</th>\n",
       "      <td>8</td>\n",
       "      <td>$4.35</td>\n",
       "      <td>$34.80</td>\n",
       "    </tr>\n",
       "  </tbody>\n",
       "</table>\n",
       "</div>"
      ],
      "text/plain": [
       "                                                      Purchase Count  \\\n",
       "Item ID Item Name                                                      \n",
       "92      Final Critic                                              13   \n",
       "178     Oathbreaker, Last Hope of the Breaking Storm              12   \n",
       "82      Nirvana                                                    9   \n",
       "145     Fiery Glass Crusader                                       9   \n",
       "103     Singed Scalpel                                             8   \n",
       "\n",
       "                                                     Item Price  \\\n",
       "Item ID Item Name                                                 \n",
       "92      Final Critic                                      $4.61   \n",
       "178     Oathbreaker, Last Hope of the Breaking Storm      $4.23   \n",
       "82      Nirvana                                           $4.90   \n",
       "145     Fiery Glass Crusader                              $4.58   \n",
       "103     Singed Scalpel                                    $4.35   \n",
       "\n",
       "                                                     Total Purchase Value  \n",
       "Item ID Item Name                                                          \n",
       "92      Final Critic                                               $59.99  \n",
       "178     Oathbreaker, Last Hope of the Breaking Storm               $50.76  \n",
       "82      Nirvana                                                    $44.10  \n",
       "145     Fiery Glass Crusader                                       $41.22  \n",
       "103     Singed Scalpel                                             $34.80  "
      ]
     },
     "execution_count": 68,
     "metadata": {},
     "output_type": "execute_result"
    }
   ],
   "source": [
    "most_profitable_table.head(5)"
   ]
  }
 ],
 "metadata": {
  "kernelspec": {
   "display_name": "Python [conda env:PythonData] *",
   "language": "python",
   "name": "conda-env-PythonData-py"
  },
  "language_info": {
   "codemirror_mode": {
    "name": "ipython",
    "version": 3
   },
   "file_extension": ".py",
   "mimetype": "text/x-python",
   "name": "python",
   "nbconvert_exporter": "python",
   "pygments_lexer": "ipython3",
   "version": "3.6.10"
  }
 },
 "nbformat": 4,
 "nbformat_minor": 5
}
